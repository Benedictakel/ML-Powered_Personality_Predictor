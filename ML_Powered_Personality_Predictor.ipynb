{
  "nbformat": 4,
  "nbformat_minor": 0,
  "metadata": {
    "colab": {
      "provenance": [],
      "authorship_tag": "ABX9TyPZinA0jiPsxNmNwICfq7/l"
    },
    "kernelspec": {
      "name": "python3",
      "display_name": "Python 3"
    },
    "language_info": {
      "name": "python"
    }
  },
  "cells": [
    {
      "cell_type": "code",
      "execution_count": null,
      "metadata": {
        "id": "xfZPQy2ixVYh"
      },
      "outputs": [],
      "source": [
        "import pandas as pd\n",
        "import numpy as np\n",
        "import seaborn as sns\n",
        "import matplotlib.pyplot as plt\n",
        "import re\n",
        "import string\n",
        "\n",
        "from sklearn.model_selection import train_test_split\n",
        "from sklearn.feature_extraction.text import TfidfVectorizer\n",
        "from sklearn.linear_model import LogisticRegression\n",
        "from sklearn.metrics import classification_report, accuracy_score\n"
      ]
    },
    {
      "cell_type": "code",
      "source": [
        "url = \"https://raw.githubusercontent.com/benedicta-kelechi/datasets/main/mbti_1.csv\"\n",
        "df = pd.read_csv(url)\n",
        "df.head()\n"
      ],
      "metadata": {
        "id": "bmdyJNNdyVyy"
      },
      "execution_count": null,
      "outputs": []
    },
    {
      "cell_type": "code",
      "source": [
        "def clean_text(text):\n",
        "    text = re.sub(r\"http\\S+\", \"\", text)  # remove URLs\n",
        "    text = re.sub(r\"\\|\\|\\|\", \" \", text)  # separator\n",
        "    text = re.sub(r\"[^a-zA-Z\\s]\", \"\", text)  # remove numbers and punctuation\n",
        "    text = text.lower()\n",
        "    return text\n",
        "\n",
        "df['cleaned_posts'] = df['posts'].apply(clean_text)\n"
      ],
      "metadata": {
        "id": "R_dDCs29ycb9"
      },
      "execution_count": null,
      "outputs": []
    },
    {
      "cell_type": "code",
      "source": [
        "X = df['cleaned_posts']\n",
        "y = df['type']\n",
        "\n",
        "X_train, X_test, y_train, y_test = train_test_split(X, y, test_size=0.2, random_state=42)\n"
      ],
      "metadata": {
        "id": "WmOEmcCUyf97"
      },
      "execution_count": null,
      "outputs": []
    },
    {
      "cell_type": "code",
      "source": [
        "vectorizer = TfidfVectorizer(max_features=5000, stop_words='english')\n",
        "X_train_tfidf = vectorizer.fit_transform(X_train)\n",
        "X_test_tfidf = vectorizer.transform(X_test)\n"
      ],
      "metadata": {
        "id": "oMjmZ9Bvylzt"
      },
      "execution_count": null,
      "outputs": []
    },
    {
      "cell_type": "code",
      "source": [
        "model = LogisticRegression(max_iter=300)\n",
        "model.fit(X_train_tfidf, y_train)\n"
      ],
      "metadata": {
        "id": "GN52znUJyqwd"
      },
      "execution_count": null,
      "outputs": []
    },
    {
      "cell_type": "code",
      "source": [
        "y_pred = model.predict(X_test_tfidf)\n",
        "\n",
        "print(\"Accuracy:\", accuracy_score(y_test, y_pred))\n",
        "print(\"\\nClassification Report:\\n\", classification_report(y_test, y_pred))\n"
      ],
      "metadata": {
        "id": "PvF_PlRIytGd"
      },
      "execution_count": null,
      "outputs": []
    },
    {
      "cell_type": "code",
      "source": [
        "sample_text = \"\"\"\n",
        "I love trying new ideas, making new friends, and discussing big philosophical questions.\n",
        "\"\"\"\n",
        "\n",
        "sample_clean = clean_text(sample_text)\n",
        "sample_vec = vectorizer.transform([sample_clean])\n",
        "predicted_type = model.predict(sample_vec)[0]\n",
        "\n",
        "print(\"Predicted MBTI Type:\", predicted_type)\n"
      ],
      "metadata": {
        "id": "Kcggh6xZywyd"
      },
      "execution_count": null,
      "outputs": []
    }
  ]
}